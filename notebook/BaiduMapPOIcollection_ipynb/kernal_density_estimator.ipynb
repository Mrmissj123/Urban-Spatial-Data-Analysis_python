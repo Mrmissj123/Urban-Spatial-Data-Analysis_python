{
 "cells": [
  {
   "cell_type": "markdown",
   "metadata": {},
   "source": [
    "> Created on Thu Jul  9 22:10:09 2020  @author: Richie Bao-caDesign设计(cadesign.cn)"
   ]
  },
  {
   "cell_type": "markdown",
   "metadata": {},
   "source": [
    "## 1 核密度估计"
   ]
  },
  {
   "cell_type": "code",
   "execution_count": 6,
   "metadata": {},
   "outputs": [],
   "source": [
    "import numpy as np\n",
    "from scipy import stats\n",
    "import math\n",
    "\n",
    "\n",
    "\n"
   ]
  },
  {
   "cell_type": "code",
   "execution_count": null,
   "metadata": {},
   "outputs": [],
   "source": []
  },
  {
   "cell_type": "code",
   "execution_count": 7,
   "metadata": {},
   "outputs": [],
   "source": [
    "x=np.linspace(stats.norm.ppf(0.01),stats.norm.ppf(0.99), 100)"
   ]
  },
  {
   "cell_type": "code",
   "execution_count": 8,
   "metadata": {},
   "outputs": [
    {
     "data": {
      "text/plain": [
       "array([-2.32634787, -2.27935095, -2.23235402, -2.18535709, -2.13836017,\n",
       "       -2.09136324, -2.04436631, -1.99736939, -1.95037246, -1.90337553,\n",
       "       -1.85637861, -1.80938168, -1.76238475, -1.71538783, -1.6683909 ,\n",
       "       -1.62139397, -1.57439705, -1.52740012, -1.48040319, -1.43340627,\n",
       "       -1.38640934, -1.33941241, -1.29241549, -1.24541856, -1.19842163,\n",
       "       -1.15142471, -1.10442778, -1.05743085, -1.01043393, -0.963437  ,\n",
       "       -0.91644007, -0.86944314, -0.82244622, -0.77544929, -0.72845236,\n",
       "       -0.68145544, -0.63445851, -0.58746158, -0.54046466, -0.49346773,\n",
       "       -0.4464708 , -0.39947388, -0.35247695, -0.30548002, -0.2584831 ,\n",
       "       -0.21148617, -0.16448924, -0.11749232, -0.07049539, -0.02349846,\n",
       "        0.02349846,  0.07049539,  0.11749232,  0.16448924,  0.21148617,\n",
       "        0.2584831 ,  0.30548002,  0.35247695,  0.39947388,  0.4464708 ,\n",
       "        0.49346773,  0.54046466,  0.58746158,  0.63445851,  0.68145544,\n",
       "        0.72845236,  0.77544929,  0.82244622,  0.86944314,  0.91644007,\n",
       "        0.963437  ,  1.01043393,  1.05743085,  1.10442778,  1.15142471,\n",
       "        1.19842163,  1.24541856,  1.29241549,  1.33941241,  1.38640934,\n",
       "        1.43340627,  1.48040319,  1.52740012,  1.57439705,  1.62139397,\n",
       "        1.6683909 ,  1.71538783,  1.76238475,  1.80938168,  1.85637861,\n",
       "        1.90337553,  1.95037246,  1.99736939,  2.04436631,  2.09136324,\n",
       "        2.13836017,  2.18535709,  2.23235402,  2.27935095,  2.32634787])"
      ]
     },
     "execution_count": 8,
     "metadata": {},
     "output_type": "execute_result"
    }
   ],
   "source": [
    "x"
   ]
  },
  {
   "cell_type": "code",
   "execution_count": 9,
   "metadata": {},
   "outputs": [
    {
     "data": {
      "text/plain": [
       "-2.3263478740408408"
      ]
     },
     "execution_count": 9,
     "metadata": {},
     "output_type": "execute_result"
    }
   ],
   "source": [
    "stats.norm.ppf(0.01)"
   ]
  },
  {
   "cell_type": "code",
   "execution_count": 11,
   "metadata": {},
   "outputs": [
    {
     "data": {
      "text/plain": [
       "(array(0.), array(1.), array(0.), array(0.))"
      ]
     },
     "execution_count": 11,
     "metadata": {},
     "output_type": "execute_result"
    }
   ],
   "source": [
    "stats.norm.stats(moments='mvsk')"
   ]
  },
  {
   "cell_type": "code",
   "execution_count": 12,
   "metadata": {},
   "outputs": [
    {
     "data": {
      "text/plain": [
       "-2.3263478740408408"
      ]
     },
     "execution_count": 12,
     "metadata": {},
     "output_type": "execute_result"
    }
   ],
   "source": [
    "stats.norm.ppf(0.01)"
   ]
  },
  {
   "cell_type": "code",
   "execution_count": null,
   "metadata": {},
   "outputs": [],
   "source": []
  },
  {
   "cell_type": "code",
   "execution_count": null,
   "metadata": {},
   "outputs": [],
   "source": []
  }
 ],
 "metadata": {
  "kernelspec": {
   "display_name": "Python 3",
   "language": "python",
   "name": "python3"
  },
  "language_info": {
   "codemirror_mode": {
    "name": "ipython",
    "version": 3
   },
   "file_extension": ".py",
   "mimetype": "text/x-python",
   "name": "python",
   "nbconvert_exporter": "python",
   "pygments_lexer": "ipython3",
   "version": "3.7.6"
  }
 },
 "nbformat": 4,
 "nbformat_minor": 4
}
