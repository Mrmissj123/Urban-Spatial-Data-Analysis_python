{
 "cells": [
  {
   "cell_type": "markdown",
   "metadata": {},
   "source": [
    "> Created on Sat Jul 25 11:41:43 2020  @author: Richie Bao-caDesign设计(cadesign.cn)"
   ]
  },
  {
   "cell_type": "markdown",
   "metadata": {},
   "source": [
    "## 1.回归公共健康数据\n",
    "公共健康数据可以分为三类，分别为地理信息数据、疾病数据和经济条件数据。在相关性分析一章计算了两两之间的相关系数，但在相关系数计算中并没有区分自变量（independent variable）或预测变量（predictor variable）亦或解释变量，与因变量(dependent variable)或结果变量（outcome variable）亦或效标变量（criterion variable），而回归分析除了可以反映变量间关系的性质和强度，更主要的目的是可以根据自变量预测因变量，其预测的准确程度取决于相关的程度，相关性越强，预测就越准确。在公共健康数据中，其经济条件数据视为自变量，而疾病数据视为因变量，通常自变量为因，因变量为果，自变量是可以改变的因素，而因变量为不能改变的因素。根据自变量的数量可以将回归分为简单回归和多元回归，多元回归包括两个或两个以上的自变量及一个因变量，那么这多个自变量作为一个整体与因变量有多大关系，做为个体，各个自变量与因变量的关系强度如何，同时，自变量之间的相对强度又如何，以及自变量之间是否存在交互效应等，回答上述问题后，基本就解释了自变量和因变量之间的关系。\n",
    "\n",
    "\n",
    "\n",
    "公共健康数据中英对照表（字段映射表）\n",
    "```python\n",
    "PubicHealth_Statistic_columns={geographic information:{'Community Area':'社区', \n",
    "                                                       'Community Area Name':'社区名',},\n",
    "                               disease:{'Birth Rate':'出生率',\n",
    "                                        'General Fertility Rate':'一般生育率',\n",
    "                                        'Low Birth Weight':'低出生体重',\n",
    "                                        'Prenatal Care Beginning in First Trimester':'产前3个月护理', \n",
    "                                        'Preterm Births':'早产',\n",
    "                                        'Teen Birth Rate':'青少年生育率',\n",
    "                                        'Assault (Homicide)':'攻击（杀人）',\n",
    "                                        'Breast cancer in females':'女性乳腺癌',\n",
    "                                        'Cancer (All Sites)':'癌症', \n",
    "                                        'Colorectal Cancer':'结肠直肠癌',\n",
    "                                        'Diabetes-related':'糖尿病相关',\n",
    "                                        'Firearm-related':'枪支相关',\n",
    "                                        'Infant Mortality Rate':'婴儿死亡率', \n",
    "                                        'Lung Cancer':'肺癌',\n",
    "                                        'Prostate Cancer in Males':'男性前列腺癌',\n",
    "                                        'Stroke (Cerebrovascular Disease)':'中风(脑血管疾病)',\n",
    "                                        'Childhood Blood Lead Level Screening':'儿童血铅水平检查',\n",
    "                                        'Childhood Lead Poisoning':'儿童铅中毒',\n",
    "                                        'Gonorrhea in Females':'女性淋病', \n",
    "                                        'Gonorrhea in Males':'男性淋病', \n",
    "                                        'Tuberculosis':'肺结核',},\n",
    "                                economic condition:{'Below Poverty Level':'贫困水平以下', \n",
    "                                                    'Crowded Housing':'拥挤的住房', \n",
    "                                                    'Dependency':'依赖',\n",
    "                                                    'No High School Diploma':'没有高中文凭', \n",
    "                                                    'Per Capita Income':'人均收入',\n",
    "                                                    'Unemployment':'失业',},\n",
    "                                }\n",
    "```"
   ]
  },
  {
   "cell_type": "code",
   "execution_count": 2,
   "metadata": {},
   "outputs": [
    {
     "name": "stdout",
     "output_type": "stream",
     "text": [
      "   area area_num_1  area_numbe  comarea  comarea_id        community  \\\n",
      "0   0.0         35          35      0.0         0.0          DOUGLAS   \n",
      "1   0.0         36          36      0.0         0.0          OAKLAND   \n",
      "2   0.0         37          37      0.0         0.0      FULLER PARK   \n",
      "3   0.0         38          38      0.0         0.0  GRAND BOULEVARD   \n",
      "4   0.0         39          39      0.0         0.0          KENWOOD   \n",
      "\n",
      "   perimeter    shape_area     shape_len  \\\n",
      "0        0.0  4.600462e+07  31027.054510   \n",
      "1        0.0  1.691396e+07  19565.506153   \n",
      "2        0.0  1.991670e+07  25339.089750   \n",
      "3        0.0  4.849250e+07  28196.837157   \n",
      "4        0.0  2.907174e+07  23325.167906   \n",
      "\n",
      "                                            geometry  ...  \\\n",
      "0  POLYGON ((-87.60914 41.84469, -87.60915 41.844...  ...   \n",
      "1  POLYGON ((-87.59215 41.81693, -87.59231 41.816...  ...   \n",
      "2  POLYGON ((-87.62880 41.80189, -87.62879 41.801...  ...   \n",
      "3  POLYGON ((-87.60671 41.81681, -87.60670 41.816...  ...   \n",
      "4  POLYGON ((-87.59215 41.81693, -87.59215 41.816...  ...   \n",
      "\n",
      "   Childhood Lead Poisoning Gonorrhea in Females  Gonorrhea in Males  \\\n",
      "0                       0.0               1063.3               727.4   \n",
      "1                       0.3               1655.4              1629.3   \n",
      "2                       2.5               1061.9              1556.4   \n",
      "3                       1.0               1454.6                1680   \n",
      "4                       0.4                610.2               549.1   \n",
      "\n",
      "   Tuberculosis  Below Poverty Level  Crowded Housing  Dependency  \\\n",
      "0           4.2                 26.1              1.6        31.0   \n",
      "1           6.7                 38.1              3.5        40.5   \n",
      "2           0.0                 55.5              4.5        38.2   \n",
      "3          13.2                 28.3              2.7        41.7   \n",
      "4           0.0                 23.1              2.3        34.2   \n",
      "\n",
      "   No High School Diploma  Per Capita Income  Unemployment  \n",
      "0                    16.9              23098          16.7  \n",
      "1                    17.6              19312          26.6  \n",
      "2                    33.7               9016          40.0  \n",
      "3                    19.4              22056          20.6  \n",
      "4                    10.8              37519          11.0  \n",
      "\n",
      "[5 rows x 39 columns]\n"
     ]
    }
   ],
   "source": [
    "import pandas as pd\n",
    "import geopandas as gpd\n",
    "import util\n",
    "\n",
    "dataFp_dic={\n",
    "    \"ublic_Health_Statistics_byCommunityArea_fp\":r'./data/Public_Health_Statistics-_Selected_public_health_indicators_by_Chicago_community_area.csv',\n",
    "    \"Boundaries_Community_Areas_current\":r'./data/geoData/Boundaries_Community_Areas_current.shp',    \n",
    "}\n",
    "\n",
    "pubicHealth_Statistic=pd.read_csv(dataFp_dic[\"ublic_Health_Statistics_byCommunityArea_fp\"])\n",
    "community_area=gpd.read_file(dataFp_dic[\"Boundaries_Community_Areas_current\"])\n",
    "community_area.area_numbe=community_area.area_numbe.astype('int64')\n",
    "pubicHealth_gpd=community_area.merge(pubicHealth_Statistic,left_on='area_numbe', right_on='Community Area')\n",
    "\n",
    "print(pubicHealth_gpd.head())"
   ]
  },
  {
   "cell_type": "code",
   "execution_count": null,
   "metadata": {},
   "outputs": [],
   "source": []
  }
 ],
 "metadata": {
  "kernelspec": {
   "display_name": "Python 3",
   "language": "python",
   "name": "python3"
  },
  "language_info": {
   "codemirror_mode": {
    "name": "ipython",
    "version": 3
   },
   "file_extension": ".py",
   "mimetype": "text/x-python",
   "name": "python",
   "nbconvert_exporter": "python",
   "pygments_lexer": "ipython3",
   "version": "3.7.6"
  }
 },
 "nbformat": 4,
 "nbformat_minor": 4
}
